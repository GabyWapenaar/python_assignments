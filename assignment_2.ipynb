{
 "cells": [
  {
   "cell_type": "markdown",
   "metadata": {},
   "source": [
    "## Assignment 2\n",
    "\n"
   ]
  },
  {
   "cell_type": "markdown",
   "metadata": {},
   "source": [
    "Consider the following card game. There are $n \\le 21$ cards numbered $1,2,...,n$ that are well *shuffled*. You draw the cards one-by-one. You win the game if by drawing the $i$ th card, you actually see number $i$ on the card for $i=1,2,...,n$. To illustrate, you win if by drawing the 10th card, you see the card with the number 10 written on it.\n",
    "\n",
    "Show that as $n$ increases the probability of winning converges to 0.63.\n",
    "\n",
    "Hint 1: Write a function that simulates the probability of winning and plot this probability of winning as a function of the number of cards $n$.\n",
    "\n",
    "You need the following libraries for this assignment:\n",
    "\n"
   ]
  },
  {
   "cell_type": "code",
   "execution_count": 1,
   "metadata": {},
   "outputs": [],
   "source": [
    "import numpy as np\n",
    "import matplotlib.pyplot as plt"
   ]
  },
  {
   "cell_type": "markdown",
   "metadata": {},
   "source": [
    "Hint 2: Functions that you may want to use for this assignment include `np.repeat` and something with shuffle.\n",
    "\n"
   ]
  },
  {
   "cell_type": "code",
   "execution_count": 2,
   "metadata": {},
   "outputs": [
    {
     "data": {
      "text/plain": [
       "array([[0, 1, 2, 3, 4],\n",
       "       [0, 1, 2, 3, 4],\n",
       "       [0, 1, 2, 3, 4]])"
      ]
     },
     "execution_count": 2,
     "metadata": {},
     "output_type": "execute_result"
    }
   ],
   "source": [
    "cards = np.arange(5)\n",
    "np.repeat(cards[None,:],3,axis=0)"
   ]
  },
  {
   "cell_type": "markdown",
   "metadata": {},
   "source": [
    "Hint 3: do not worry if you cannot solve the assignment. Tell us what you tried, what you googled, what did and what did not work. We want to see that you invested the effort and tried to program this problem.\n",
    "\n"
   ]
  },
  {
   "cell_type": "markdown",
   "metadata": {},
   "source": [
    "### What did you get wrong the first time and why?\n",
    "\n"
   ]
  },
  {
   "cell_type": "markdown",
   "metadata": {},
   "source": [
    "This section you only need to fill in after the assignment was discussed in class.\n",
    "\n"
   ]
  },
  {
   "cell_type": "markdown",
   "metadata": {},
   "source": [
    "### What did you learn from this assignment?\n",
    "\n"
   ]
  },
  {
   "cell_type": "markdown",
   "metadata": {},
   "source": [
    "This section you only need to fill in after the assignment was discussed in class.\n",
    "\n"
   ]
  }
 ],
 "metadata": {
  "kernelspec": {
   "display_name": "Python 3",
   "language": "python",
   "name": "python3"
  },
  "language_info": {
   "codemirror_mode": {
    "name": "ipython",
    "version": 3
   },
   "file_extension": ".py",
   "mimetype": "text/x-python",
   "name": "python",
   "nbconvert_exporter": "python",
   "pygments_lexer": "ipython3",
   "version": "3.8.10"
  },
  "org": null
 },
 "nbformat": 4,
 "nbformat_minor": 4
}
