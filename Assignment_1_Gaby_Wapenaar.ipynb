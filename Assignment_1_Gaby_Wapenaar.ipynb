{
 "cells": [
  {
   "cell_type": "markdown",
   "id": "d8725a74-83a9-4c4c-8cd8-62d743d87b9b",
   "metadata": {},
   "source": [
    "# Assignment 1\n",
    "## Gaby Wapenaar 2023625"
   ]
  },
  {
   "cell_type": "markdown",
   "id": "3de8319d-3d9a-4c3c-9fce-3baf9ced0645",
   "metadata": {},
   "source": [
    "Experiment 1: roll 6 times and get one roll of 6."
   ]
  },
  {
   "cell_type": "code",
   "execution_count": 6,
   "id": "b8ee522f-e7c4-4c14-afb5-5d94f1d4b2b8",
   "metadata": {},
   "outputs": [],
   "source": [
    "import numpy as np\n",
    "# for an accurate test for all experiments I take many trials for all.\n",
    "# Number of trials\n",
    "num_trials = 1000000"
   ]
  },
  {
   "cell_type": "code",
   "execution_count": 7,
   "id": "d7ac362d-f9fc-478a-8f8f-dbaae94ee5b3",
   "metadata": {},
   "outputs": [
    {
     "name": "stdout",
     "output_type": "stream",
     "text": [
      "Probability of rolling a 6 in experiment 1: 0.166607\n"
     ]
    }
   ],
   "source": [
    "# the target for a roll is to roll 6.\n",
    "target_outcome = 6\n",
    "\n",
    "# This is the simulation of rolling a dice for x number of trials randomly\n",
    "dice_rolls = np.random.randint(1, 7, size=num_trials)\n",
    "\n",
    "# this checks if you have rolled 6\n",
    "success_count = np.sum(dice_rolls == target_outcome)\n",
    "\n",
    "# Calculation of the probability that you roll 6.\n",
    "probability = success_count / num_trials\n",
    "\n",
    "print(f\"Probability of rolling a {target_outcome} in experiment 1: {probability}\")\n",
    "\n",
    "\n"
   ]
  },
  {
   "cell_type": "markdown",
   "id": "f3cd4351-91b7-4ed0-a82f-20b0dad34efa",
   "metadata": {},
   "source": [
    "Experiment 2: roll 12 times and get two 6 rolls."
   ]
  },
  {
   "cell_type": "code",
   "execution_count": 8,
   "id": "6c738bab-ac9e-437c-ade6-1a43462632c1",
   "metadata": {},
   "outputs": [
    {
     "name": "stdout",
     "output_type": "stream",
     "text": [
      "Probability of rolling at least two 6s in 12 rolls: 0.618433\n"
     ]
    }
   ],
   "source": [
    "\n",
    "# The number of rolls per trial like stated in the assignment\n",
    "num_rolls_per_trial2 = 12\n",
    "\n",
    "# Show how many times 6 needs to be rolled to let the experiment be successful(at least two 6s)\n",
    "min_6_count2 = 2\n",
    "\n",
    "# Simulate the experiment by generating random dice rolls\n",
    "dice_rolls = np.random.randint(1, 7, size=(num_trials, num_rolls_per_trial2))\n",
    "\n",
    "# Count the number of 6s in each trial\n",
    "six_count_per_trial2 = np.sum(dice_rolls == 6, axis=1)\n",
    "\n",
    "# Check if at least two 6s were rolled in each trial\n",
    "success2 = six_count_per_trial2 >= min_6_count2\n",
    "\n",
    "# Calculate the probability of success\n",
    "probability2 = np.mean(success2)\n",
    "\n",
    "print(f\"Probability of rolling at least two 6s in {num_rolls_per_trial2} rolls: {probability2}\")\n"
   ]
  },
  {
   "cell_type": "markdown",
   "id": "3e26d047-1c8b-4e59-89a7-ca63eea081ca",
   "metadata": {},
   "source": [
    "Experiment 3: roll 18 times to get three 6 rolls."
   ]
  },
  {
   "cell_type": "code",
   "execution_count": 9,
   "id": "60f6dcd7-a73a-422e-b39d-36184850a8a5",
   "metadata": {},
   "outputs": [
    {
     "name": "stdout",
     "output_type": "stream",
     "text": [
      "Probability of rolling at least three 6s in 18 rolls: 0.597182\n"
     ]
    }
   ],
   "source": [
    "# the number of rolls per trial like stated in the assignment\n",
    "num_rolls_per_trial3 = 18\n",
    "\n",
    "# Show how many times 6 needs to be rolled to let the experiment be successful(at least two 6s)\n",
    "min_6_count3 = 3\n",
    "\n",
    "# Simulate the experiment by generating random dice rolls\n",
    "dice_rolls = np.random.randint(1, 7, size=(num_trials, num_rolls_per_trial3))\n",
    "\n",
    "# Count the number of 6s in each trial\n",
    "six_count_per_trial3 = np.sum(dice_rolls == 6, axis=1)\n",
    "\n",
    "# Check if at least two 6s were rolled in each trial\n",
    "success3 = six_count_per_trial3 >= min_6_count3\n",
    "\n",
    "# Calculate the probability of success\n",
    "probability3 = np.mean(success3)\n",
    "\n",
    "print(f\"Probability of rolling at least three 6s in {num_rolls_per_trial3} rolls: {probability3}\")\n"
   ]
  },
  {
   "cell_type": "code",
   "execution_count": 10,
   "id": "8928d823-28b8-4cee-8787-72dbb4d41dc5",
   "metadata": {},
   "outputs": [
    {
     "data": {
      "text/plain": [
       "0.618433"
      ]
     },
     "execution_count": 10,
     "metadata": {},
     "output_type": "execute_result"
    }
   ],
   "source": [
    "# the biggest probability is from the second experiment.\n",
    "max(probability,probability2,probability3)"
   ]
  },
  {
   "cell_type": "code",
   "execution_count": null,
   "id": "fed79218-32ad-4ba1-b959-375c50ac4ec6",
   "metadata": {},
   "outputs": [],
   "source": []
  }
 ],
 "metadata": {
  "kernelspec": {
   "display_name": "Python 3 (ipykernel)",
   "language": "python",
   "name": "python3"
  },
  "language_info": {
   "codemirror_mode": {
    "name": "ipython",
    "version": 3
   },
   "file_extension": ".py",
   "mimetype": "text/x-python",
   "name": "python",
   "nbconvert_exporter": "python",
   "pygments_lexer": "ipython3",
   "version": "3.9.7"
  }
 },
 "nbformat": 4,
 "nbformat_minor": 5
}
